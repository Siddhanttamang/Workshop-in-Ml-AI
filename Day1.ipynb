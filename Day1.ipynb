{
 "cells": [
  {
   "cell_type": "code",
   "execution_count": 3,
   "id": "7b166d52-56d6-4cbb-b2b9-66277a00aacf",
   "metadata": {},
   "outputs": [
    {
     "name": "stdout",
     "output_type": "stream",
     "text": [
      "10\n",
      "<class 'int'>\n"
     ]
    }
   ],
   "source": [
    "a=10\n",
    "print(a)\n",
    "print(type(a))\n"
   ]
  },
  {
   "cell_type": "code",
   "execution_count": 4,
   "id": "48a4b544-4103-4b46-ac6c-755ddb178983",
   "metadata": {},
   "outputs": [
    {
     "name": "stdout",
     "output_type": "stream",
     "text": [
      "<class 'float'>\n",
      "<class 'str'>\n",
      "<class 'bool'>\n"
     ]
    }
   ],
   "source": [
    "a=10.1\n",
    "name=\"Sid\"\n",
    "b=True\n",
    "\n",
    "print(type(a))\n",
    "print(type(name))\n",
    "print(type(b))"
   ]
  },
  {
   "cell_type": "code",
   "execution_count": 5,
   "id": "b2791be9-090d-4bfd-af68-5bf9e9bcd6c8",
   "metadata": {},
   "outputs": [
    {
     "name": "stdin",
     "output_type": "stream",
     "text": [
      "Enter name Siddhant\n"
     ]
    },
    {
     "name": "stdout",
     "output_type": "stream",
     "text": [
      "My name is Siddhant\n"
     ]
    }
   ],
   "source": [
    "name=input(\"Enter name\")\n",
    "print(\"My name is\",name)"
   ]
  },
  {
   "cell_type": "code",
   "execution_count": 11,
   "id": "32f8709b-db29-4f7f-a064-48795ad4f308",
   "metadata": {},
   "outputs": [
    {
     "name": "stdin",
     "output_type": "stream",
     "text": [
      "Enter name Siddhant\n",
      "Enter age 22\n"
     ]
    },
    {
     "name": "stdout",
     "output_type": "stream",
     "text": [
      "<class 'str'> <class 'int'>\n",
      "My name is Siddhant and I am 22 year old\n"
     ]
    }
   ],
   "source": [
    "name=input(\"Enter name\")\n",
    "age=int(input(\"Enter age\"))\n",
    "print(type(name),type(age))\n",
    "\n",
    "print(\"My name is\",name,\"and I am\",age,\"year old\")"
   ]
  },
  {
   "cell_type": "code",
   "execution_count": 13,
   "id": "9f0d6066-1c2c-42a5-b957-581a778d8a34",
   "metadata": {},
   "outputs": [
    {
     "name": "stdout",
     "output_type": "stream",
     "text": [
      "Sum =30\n"
     ]
    }
   ],
   "source": [
    "a=10\n",
    "b=20\n",
    "print(f\"Sum ={a+b}\")"
   ]
  },
  {
   "cell_type": "code",
   "execution_count": 15,
   "id": "ceeb1fa3-f075-438a-bd20-b362c37a3c1e",
   "metadata": {},
   "outputs": [
    {
     "name": "stdout",
     "output_type": "stream",
     "text": [
      "Sum ={a+b}\n",
      "Diff =-10\n",
      "Mul =200\n",
      "Div =0.5\n"
     ]
    }
   ],
   "source": [
    "a=10\n",
    "b=20\n",
    "print(f\"Sum ={a+b}\")\n",
    "print(f\"Diff ={a-b}\")\n",
    "print(f\"Mul ={a*b}\")\n",
    "print(f\"Div ={a/b}\")"
   ]
  },
  {
   "cell_type": "code",
   "execution_count": 19,
   "id": "931081cf-d6ad-4619-8050-e172737dc3cb",
   "metadata": {},
   "outputs": [
    {
     "name": "stdout",
     "output_type": "stream",
     "text": [
      "True\n",
      "False\n",
      "False\n",
      "True\n"
     ]
    }
   ],
   "source": [
    "#comparision\n",
    "\n",
    "a=10\n",
    "b=12\n",
    "print(f\"{a<b}\")\n",
    "print(f\"{a>b}\")\n",
    "print(f\"{a==b}\")\n",
    "print(f\"{a!=b}\")"
   ]
  },
  {
   "cell_type": "code",
   "execution_count": 23,
   "id": "a8e69b80-0754-420e-9a5a-76ebd7cf58cc",
   "metadata": {},
   "outputs": [
    {
     "name": "stdout",
     "output_type": "stream",
     "text": [
      "True and False False\n",
      "True and False True\n",
      "True and False True\n"
     ]
    }
   ],
   "source": [
    "a=True\n",
    "b=False\n",
    "print(f\"{a} and {b} {a and b}\")\n",
    "print(f\"{a} and {b} {a or b}\")\n",
    "print(f\"{a} and {b} {not b}\")"
   ]
  },
  {
   "cell_type": "code",
   "execution_count": 28,
   "id": "2c3ef41a-fc59-4228-a179-cb17e1f6bcc1",
   "metadata": {},
   "outputs": [
    {
     "name": "stdout",
     "output_type": "stream",
     "text": [
      "55\n"
     ]
    }
   ],
   "source": [
    "sum=0\n",
    "for i in range(1,11):\n",
    " sum+=i\n",
    "print(sum)    \n"
   ]
  },
  {
   "cell_type": "code",
   "execution_count": 60,
   "id": "cfb53f5b-b0d7-46ad-8042-4a3b75997b31",
   "metadata": {},
   "outputs": [
    {
     "name": "stdout",
     "output_type": "stream",
     "text": [
      "2\n",
      "3\n",
      "Sid\n",
      "True\n",
      "7\n",
      "True\n"
     ]
    },
    {
     "data": {
      "text/plain": [
       "4"
      ]
     },
     "execution_count": 60,
     "metadata": {},
     "output_type": "execute_result"
    }
   ],
   "source": [
    "#tuples\n",
    "\n",
    "a= (2,3,\"Sid\",True,7,True)\n",
    "count=0\n",
    "for data in a:\n",
    "    if(a.index(True)):\n",
    "        count+1\n",
    "    print(data)\n",
    "    #print(type(data))\n",
    "    \n",
    "a.index(True)\n",
    "#\n",
    "a.index(7)"
   ]
  },
  {
   "cell_type": "code",
   "execution_count": 57,
   "id": "d04c08e6-906a-4a72-8be4-9a433ef6a30c",
   "metadata": {},
   "outputs": [
    {
     "name": "stdout",
     "output_type": "stream",
     "text": [
      "[23, 23]\n",
      "<class 'list'>\n",
      "<class 'list'>\n",
      "[33, 23]\n",
      "[33]\n"
     ]
    }
   ],
   "source": [
    "a=[]\n",
    "b=list()\n",
    "a.append(23)\n",
    "a.append(23)\n",
    "b.append(33)\n",
    "b.append(23)\n",
    "\n",
    "print(a)\n",
    "print(type(a))\n",
    "print(type(b))\n",
    "print(b)\n",
    "b.pop()\n",
    "print(b)\n",
    " "
   ]
  },
  {
   "cell_type": "code",
   "execution_count": 59,
   "id": "9149a8a9-6f22-4937-9bad-bfa11d1c814c",
   "metadata": {},
   "outputs": [
    {
     "name": "stdout",
     "output_type": "stream",
     "text": [
      "[2, 3, 4, 7]\n"
     ]
    }
   ],
   "source": [
    "a=[2,3,4,1]\n",
    "a[3]=7\n",
    "print(a)\n"
   ]
  },
  {
   "cell_type": "code",
   "execution_count": 62,
   "id": "e000d2ca-c1c6-4ecc-b9e6-802c758c403a",
   "metadata": {},
   "outputs": [
    {
     "ename": "TypeError",
     "evalue": "'tuple' object does not support item assignment",
     "output_type": "error",
     "traceback": [
      "\u001b[31m---------------------------------------------------------------------------\u001b[39m",
      "\u001b[31mTypeError\u001b[39m                                 Traceback (most recent call last)",
      "\u001b[36mCell\u001b[39m\u001b[36m \u001b[39m\u001b[32mIn[62]\u001b[39m\u001b[32m, line 2\u001b[39m\n\u001b[32m      1\u001b[39m a=(\u001b[32m1\u001b[39m,\u001b[32m2\u001b[39m,\u001b[32m3\u001b[39m,\u001b[32m4\u001b[39m,\u001b[32m5\u001b[39m,\u001b[32m6\u001b[39m,\u001b[32m7\u001b[39m,\u001b[32m8\u001b[39m)\n\u001b[32m----> \u001b[39m\u001b[32m2\u001b[39m \u001b[43ma\u001b[49m\u001b[43m[\u001b[49m\u001b[32;43m2\u001b[39;49m\u001b[43m]\u001b[49m=\u001b[32m10\u001b[39m\n\u001b[32m      3\u001b[39m \u001b[38;5;28mprint\u001b[39m(a)\n",
      "\u001b[31mTypeError\u001b[39m: 'tuple' object does not support item assignment"
     ]
    }
   ],
   "source": [
    "a=(1,2,3,4,5,6,7,8)\n",
    "a[2]=10\n",
    "print(a)"
   ]
  },
  {
   "cell_type": "code",
   "execution_count": 68,
   "id": "f9ff3edf-7949-41d6-b6bb-fbbb09db901c",
   "metadata": {},
   "outputs": [
    {
     "name": "stdin",
     "output_type": "stream",
     "text": [
      "Enter first number 20\n",
      "Enter second number 19\n"
     ]
    },
    {
     "name": "stdout",
     "output_type": "stream",
     "text": [
      "Sum is 39\n"
     ]
    }
   ],
   "source": [
    "def sum(a,b):\n",
    "    sum=a+b\n",
    "    print(\"Sum is\",sum)\n",
    "a=int(input(\"Enter first number\"))\n",
    "b=int(input(\"Enter second number\"))\n",
    "sum(a,b)\n"
   ]
  },
  {
   "cell_type": "code",
   "execution_count": 65,
   "id": "12e93483-b745-42a0-a2f2-5c1cfbff7433",
   "metadata": {},
   "outputs": [
    {
     "name": "stdout",
     "output_type": "stream",
     "text": [
      "Sid\n"
     ]
    }
   ],
   "source": [
    "data={\n",
    "    \"id\":23,\n",
    "    \"name\":\"Sid\",\n",
    "    \"address\":\"BTM\"\n",
    "}\n",
    "print(data[\"name\"])"
   ]
  },
  {
   "cell_type": "code",
   "execution_count": 67,
   "id": "df3802ce-f74c-4ea1-abb9-f07f8716333a",
   "metadata": {},
   "outputs": [
    {
     "name": "stdout",
     "output_type": "stream",
     "text": [
      "[4, 5, 12, 23, 34]\n"
     ]
    }
   ],
   "source": [
    "a=[4,23,5,34,12]\n",
    "a.sort()\n",
    "print(a)"
   ]
  },
  {
   "cell_type": "code",
   "execution_count": 69,
   "id": "6be4322f-abb3-418a-94db-ad50b98d9d37",
   "metadata": {},
   "outputs": [
    {
     "name": "stdout",
     "output_type": "stream",
     "text": [
      "[88, 44, 22, 9, 3, 2]\n"
     ]
    }
   ],
   "source": [
    "x=[3,22,44,88,2,9]\n",
    "x.sort(reverse=True)\n",
    "print(x)"
   ]
  },
  {
   "cell_type": "code",
   "execution_count": 80,
   "id": "c0bfa3ce-671e-4892-b6d8-da184d48ff05",
   "metadata": {},
   "outputs": [
    {
     "name": "stdin",
     "output_type": "stream",
     "text": [
      "Enter weight in Kg 60\n",
      "Enter Height in cm 165\n"
     ]
    },
    {
     "name": "stdout",
     "output_type": "stream",
     "text": [
      "BMI is 22.04\n"
     ]
    }
   ],
   "source": [
    "def cal_bmi(weight,height):\n",
    "    return (weight/((height/100)**2))\n",
    "weight=int(input(\"Enter weight in Kg\"))\n",
    "height=int(input(\"Enter Height in cm\"))\n",
    "\n",
    "print(f\"BMI is {cal_bmi(weight,height):.2f}\")"
   ]
  },
  {
   "cell_type": "code",
   "execution_count": 100,
   "id": "d072656c-ad74-4b92-a9d6-0b55270939ad",
   "metadata": {},
   "outputs": [
    {
     "name": "stdin",
     "output_type": "stream",
     "text": [
      "Enter your marks 100\n"
     ]
    },
    {
     "name": "stdout",
     "output_type": "stream",
     "text": [
      "Grade A\n"
     ]
    }
   ],
   "source": [
    "def grade_check(a):\n",
    "    if(a>100 or a<0):\n",
    "        print(\"Invalid input\")\n",
    "    elif(a>=90):\n",
    "        print(\"Grade A\")\n",
    "    elif(a>=80):\n",
    "        print(\"Grade B\")\n",
    "    elif(a>=70):\n",
    "        print(\"Grade C\")\n",
    "    elif(a>=60):\n",
    "        print(\"Grade D\")\n",
    "    elif(a<60):\n",
    "        print(\"Grade F\")\n",
    "   \n",
    "\n",
    "marks=int(input(\"Enter your marks\"))\n",
    "grade_check(marks)"
   ]
  },
  {
   "cell_type": "code",
   "execution_count": 103,
   "id": "2b310b67-1c85-498a-b917-6b8b17ccfa57",
   "metadata": {},
   "outputs": [
    {
     "name": "stdin",
     "output_type": "stream",
     "text": [
      "Enter radius of a circle 7\n"
     ]
    },
    {
     "name": "stdout",
     "output_type": "stream",
     "text": [
      "Area of circle=  153.9335\n"
     ]
    }
   ],
   "source": [
    "def calculate_area(radius):\n",
    "    return 3.1415*radius**2\n",
    "\n",
    "radius=int(input(\"Enter radius of a circle\"))\n",
    "print(\"Area of circle= \",calculate_area(radius))"
   ]
  },
  {
   "cell_type": "code",
   "execution_count": null,
   "id": "3660d912-e422-40fa-83d3-fd761501fc36",
   "metadata": {},
   "outputs": [],
   "source": []
  }
 ],
 "metadata": {
  "kernelspec": {
   "display_name": "Python 3 (ipykernel)",
   "language": "python",
   "name": "python3"
  },
  "language_info": {
   "codemirror_mode": {
    "name": "ipython",
    "version": 3
   },
   "file_extension": ".py",
   "mimetype": "text/x-python",
   "name": "python",
   "nbconvert_exporter": "python",
   "pygments_lexer": "ipython3",
   "version": "3.13.2"
  }
 },
 "nbformat": 4,
 "nbformat_minor": 5
}
