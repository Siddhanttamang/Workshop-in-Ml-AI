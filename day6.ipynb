{
 "cells": [
  {
   "cell_type": "code",
   "execution_count": 19,
   "metadata": {
    "colab": {
     "base_uri": "https://localhost:8080/"
    },
    "id": "XcPEbF-IdY4A",
    "outputId": "09136089-66d4-4849-9c7c-4f9b104a5ce6"
   },
   "outputs": [
    {
     "name": "stdout",
     "output_type": "stream",
     "text": [
      "2.6.0+cpu\n"
     ]
    }
   ],
   "source": [
    "import torch\n",
    "print(torch.__version__)"
   ]
  },
  {
   "cell_type": "code",
   "execution_count": 20,
   "metadata": {
    "colab": {
     "base_uri": "https://localhost:8080/"
    },
    "id": "fanLNpdWdgWv",
    "outputId": "f89e113c-9594-4e0f-c812-8b994d2ba7ff"
   },
   "outputs": [
    {
     "name": "stdout",
     "output_type": "stream",
     "text": [
      "My device is cpu\n"
     ]
    }
   ],
   "source": [
    "if torch.cuda.is_available():\n",
    "  device=\"cuda\"\n",
    "elif torch.backends.mps.is_available():\n",
    "  device=\"mac\"\n",
    "else:\n",
    "  device=\"cpu\"\n",
    "print(f\"My device is {device}\")"
   ]
  },
  {
   "cell_type": "code",
   "execution_count": 21,
   "metadata": {
    "colab": {
     "base_uri": "https://localhost:8080/"
    },
    "id": "UfhrK5SaeCuO",
    "outputId": "d10a45c9-2744-4935-80b3-98a587773dc2"
   },
   "outputs": [
    {
     "name": "stdout",
     "output_type": "stream",
     "text": [
      "Shape of X is torch.Size([50, 1])\n",
      "Shape of y is torch.Size([50, 1])\n",
      "type of X is <class 'torch.Tensor'>\n",
      "type of y is <class 'torch.Tensor'>\n"
     ]
    }
   ],
   "source": [
    "m=0.7\n",
    "c=0.4\n",
    "# add one more dimension 1D-> 2D\n",
    "X= torch.arange(0,1,0.02).unsqueeze(dim=1)\n",
    "\n",
    "y=m*X +c\n",
    "print(f\"Shape of X is {X.shape}\")\n",
    "print(f\"Shape of y is {y.shape}\")\n",
    "print(f\"type of X is {type(X)}\")\n",
    "print(f\"type of y is {type(y)}\")"
   ]
  },
  {
   "cell_type": "code",
   "execution_count": 22,
   "metadata": {
    "colab": {
     "base_uri": "https://localhost:8080/"
    },
    "id": "LcxHgTcsfFdP",
    "outputId": "5dd74abc-5d5b-46c5-9354-4c2104f2151f"
   },
   "outputs": [
    {
     "data": {
      "text/plain": [
       "(tensor([[0.0000],\n",
       "         [0.0200],\n",
       "         [0.0400],\n",
       "         [0.0600],\n",
       "         [0.0800]]),\n",
       " tensor([[0.4000],\n",
       "         [0.4140],\n",
       "         [0.4280],\n",
       "         [0.4420],\n",
       "         [0.4560]]))"
      ]
     },
     "execution_count": 22,
     "metadata": {},
     "output_type": "execute_result"
    }
   ],
   "source": [
    "X[:5], y[:5]"
   ]
  },
  {
   "cell_type": "code",
   "execution_count": 23,
   "metadata": {
    "id": "eKUqDCZ3gBpn"
   },
   "outputs": [],
   "source": [
    "from sklearn.model_selection import train_test_split\n"
   ]
  },
  {
   "cell_type": "code",
   "execution_count": 24,
   "metadata": {
    "id": "HI1sRhudgx5n"
   },
   "outputs": [],
   "source": [
    "#reproduicibility random state\n",
    "X_train, X_test,y_train,y_test=train_test_split(X,y, test_size=0.2,random_state=42)"
   ]
  },
  {
   "cell_type": "code",
   "execution_count": 25,
   "metadata": {
    "id": "ZMSaox9ChpAZ"
   },
   "outputs": [],
   "source": [
    "import matplotlib.pyplot as plt\n",
    "\n",
    "def plot_data(X_train=X_train,X_test=X_test,y_train=y_train,y_test=y_test, predictions= None):\n",
    "    plt.figure(figsize=(8,6))\n",
    "    plt.scatter(X_train, y_train, s=10,c='b',label=\"Training data\")\n",
    "    plt.scatter(X_test, y_test, s=10,c='r',label=\"Testing data\")\n",
    "    if predictions is not None:\n",
    "      plt.scatter(X_test,predictions,s=10,c='g',label=\"Predicted Data\")\n",
    "    plt.legend()\n",
    "    plt.title(\"X vs Y\")\n",
    "    plt.show()\n"
   ]
  },
  {
   "cell_type": "code",
   "execution_count": 26,
   "metadata": {
    "colab": {
     "base_uri": "https://localhost:8080/"
    },
    "id": "jnNjbYu0sLtU",
    "outputId": "0e74d98c-0977-4eb3-993d-14a62f9e76ca"
   },
   "outputs": [
    {
     "data": {
      "text/plain": [
       "torch.Size([10, 1])"
      ]
     },
     "execution_count": 26,
     "metadata": {},
     "output_type": "execute_result"
    }
   ],
   "source": [
    "X_test.shape"
   ]
  },
  {
   "cell_type": "code",
   "execution_count": 27,
   "metadata": {
    "colab": {
     "base_uri": "https://localhost:8080/",
     "height": 545
    },
    "id": "BzZeIU9MjdcK",
    "outputId": "c4d46b53-5a9d-45ef-ad5b-b90e28cff0b7"
   },
   "outputs": [
    {
     "data": {
      "image/png": "[encoded data removed]",
      "text/plain": [
       "<Figure size 800x600 with 1 Axes>"
      ]
     },
     "metadata": {},
     "output_type": "display_data"
    }
   ],
   "source": [
    "plot_data()"
   ]
  },
  {
   "cell_type": "code",
   "execution_count": 28,
   "metadata": {
    "id": "Mxk-10ZKj1Ab"
   },
   "outputs": [],
   "source": [
    "from torch import nn\n",
    "class FirstNeuralNetwork(nn.Module): # extending nn.Module\n",
    "  def __init__(self):\n",
    "    super().__init__()\n",
    "    self.weights= nn.Parameter(torch.randn(1,dtype=torch.float,requires_grad=True))\n",
    "    self.bias= nn.Parameter(torch.randn(1,dtype=torch.float,requires_grad=True))\n",
    "\n",
    "  def forward(self,x: torch.Tensor)->torch.tensor:\n",
    "    return self.weights*x+self.bias\n"
   ]
  },
  {
   "cell_type": "code",
   "execution_count": 29,
   "metadata": {
    "colab": {
     "base_uri": "https://localhost:8080/"
    },
    "id": "CLi8Y5tMn_NF",
    "outputId": "da6cd534-979a-400e-b2ca-d6052872f5d4"
   },
   "outputs": [
    {
     "data": {
      "text/plain": [
       "[Parameter containing:\n",
       " tensor([0.3367], requires_grad=True),\n",
       " Parameter containing:\n",
       " tensor([0.1288], requires_grad=True)]"
      ]
     },
     "execution_count": 29,
     "metadata": {},
     "output_type": "execute_result"
    }
   ],
   "source": [
    "torch.manual_seed(42)\n",
    "model=FirstNeuralNetwork()\n",
    "list(model.parameters())"
   ]
  },
  {
   "cell_type": "code",
   "execution_count": 30,
   "metadata": {
    "id": "P7kGool_omvi"
   },
   "outputs": [],
   "source": [
    "with torch.inference_mode():\n",
    "  y_preds=model(X_test)\n"
   ]
  },
  {
   "cell_type": "code",
   "execution_count": 31,
   "metadata": {
    "colab": {
     "base_uri": "https://localhost:8080/"
    },
    "id": "a-iYYl4KsUG7",
    "outputId": "8475d5a5-d421-40ce-e0da-6b7b35d46076"
   },
   "outputs": [
    {
     "data": {
      "text/plain": [
       "torch.Size([10, 1])"
      ]
     },
     "execution_count": 31,
     "metadata": {},
     "output_type": "execute_result"
    }
   ],
   "source": [
    "y_preds.shape"
   ]
  },
  {
   "cell_type": "code",
   "execution_count": 32,
   "metadata": {
    "colab": {
     "base_uri": "https://localhost:8080/",
     "height": 545
    },
    "id": "XVCCe-uxqUoH",
    "outputId": "72eac6c0-4cc0-409c-b567-68c09e73dd33"
   },
   "outputs": [
    {
     "data": {
      "image/png": "[encoded data removed]",
      "text/plain": [
       "<Figure size 800x600 with 1 Axes>"
      ]
     },
     "metadata": {},
     "output_type": "display_data"
    }
   ],
   "source": [
    "\n",
    "plot_data(predictions=y_preds)\n"
   ]
  },
  {
   "cell_type": "code",
   "execution_count": 33,
   "metadata": {
    "colab": {
     "base_uri": "https://localhost:8080/"
    },
    "id": "0TCdpRMJsZTq",
    "outputId": "20304943-f1e1-457e-d76f-f64228523dfb"
   },
   "outputs": [
    {
     "name": "stdout",
     "output_type": "stream",
     "text": [
      "Epoch:20 | Train loss= 0.0011 | test loss= 0.0011\n",
      "Epoch:40 | Train loss= 0.0006 | test loss= 0.0006\n",
      "Epoch:60 | Train loss= 0.0003 | test loss= 0.0003\n",
      "Epoch:80 | Train loss= 0.0002 | test loss= 0.0002\n",
      "Epoch:100 | Train loss= 0.0001 | test loss= 0.0001\n",
      "Epoch:120 | Train loss= 0.0001 | test loss= 0.0001\n",
      "Epoch:140 | Train loss= 0.0000 | test loss= 0.0000\n",
      "Epoch:160 | Train loss= 0.0000 | test loss= 0.0000\n",
      "Epoch:180 | Train loss= 0.0000 | test loss= 0.0000\n",
      "Epoch:200 | Train loss= 0.0000 | test loss= 0.0000\n",
      "Epoch:220 | Train loss= 0.0000 | test loss= 0.0000\n",
      "Epoch:240 | Train loss= 0.0000 | test loss= 0.0000\n",
      "Epoch:260 | Train loss= 0.0000 | test loss= 0.0000\n",
      "Epoch:280 | Train loss= 0.0000 | test loss= 0.0000\n",
      "Epoch:300 | Train loss= 0.0000 | test loss= 0.0000\n",
      "Epoch:320 | Train loss= 0.0000 | test loss= 0.0000\n",
      "Epoch:340 | Train loss= 0.0000 | test loss= 0.0000\n",
      "Epoch:360 | Train loss= 0.0000 | test loss= 0.0000\n",
      "Epoch:380 | Train loss= 0.0000 | test loss= 0.0000\n",
      "Epoch:400 | Train loss= 0.0000 | test loss= 0.0000\n",
      "Epoch:420 | Train loss= 0.0000 | test loss= 0.0000\n",
      "Epoch:440 | Train loss= 0.0000 | test loss= 0.0000\n",
      "Epoch:460 | Train loss= 0.0000 | test loss= 0.0000\n",
      "Epoch:480 | Train loss= 0.0000 | test loss= 0.0000\n",
      "Epoch:500 | Train loss= 0.0000 | test loss= 0.0000\n"
     ]
    }
   ],
   "source": [
    "#setup loss function and optimizer\n",
    "\n",
    "loss_fn= nn.MSELoss()\n",
    "#lr : learning rate\n",
    "optimizer= torch.optim.SGD(params=model.parameters(),lr=0.1)\n",
    "epochs= 500\n",
    "X_train,y_train = X_train.to(device),y_train.to(device)\n",
    "X_test,y_test = X_test.to(device),y_test.to(device)\n",
    "\n",
    "model.to(device)\n",
    "train_loss_list=[]\n",
    "test_loss_list=[]\n",
    "\n",
    "for epoch in range(epochs):\n",
    "  #train\n",
    "  model.train()\n",
    "  # forward pass\n",
    "  train_preds= model(X_train)\n",
    "  #compute training loss\n",
    "  train_loss= loss_fn(y_train,train_preds)\n",
    "  #zero grad optimizer\n",
    "  optimizer.zero_grad()\n",
    "  #backpropagte\n",
    "  train_loss.backward()\n",
    "  #step to optimizer\n",
    "  optimizer.step()\n",
    "\n",
    "\n",
    "  with torch.inference_mode():\n",
    "    test_preds=model(X_test)\n",
    "    test_loss=loss_fn(y_test,test_preds)\n",
    "\n",
    "  if(epoch+1)%20==0:\n",
    "    print(f\"Epoch:{epoch+1} | Train loss= {test_loss:.4f} | test loss= {test_loss:.4f}\")\n",
    "\n",
    "  test_loss_list.append(train_loss.cpu().detach().numpy())\n",
    "  train_loss_list.append(test_loss.cpu().detach().numpy())\n",
    "\n"
   ]
  },
  {
   "cell_type": "code",
   "execution_count": 34,
   "metadata": {
    "colab": {
     "base_uri": "https://localhost:8080/",
     "height": 489
    },
    "id": "ITZh7MdKwcgp",
    "outputId": "a1bce644-f184-4e59-8c52-c34adb94e89a"
   },
   "outputs": [
    {
     "data": {
      "image/png": "[encoded data removed]",
      "text/plain": [
       "<Figure size 640x480 with 1 Axes>"
      ]
     },
     "metadata": {},
     "output_type": "display_data"
    },
    {
     "data": {
      "text/plain": [
       "<Figure size 640x480 with 0 Axes>"
      ]
     },
     "metadata": {},
     "output_type": "display_data"
    }
   ],
   "source": [
    "plt.plot(range(epochs),train_loss_list,label=\"Training loss\")\n",
    "plt.plot(range(epochs),test_loss_list,label=\"Testing loss\")\n",
    "plt.title(\"loss Vs Epcohs\")\n",
    "plt.xlabel(\"loss\")\n",
    "plt.ylabel(\"epochs\")\n",
    "plt.show()\n",
    "plt.savefig(\"loss.png\")"
   ]
  },
  {
   "cell_type": "code",
   "execution_count": 35,
   "metadata": {
    "colab": {
     "base_uri": "https://localhost:8080/"
    },
    "id": "1otiCRn0zTCD",
    "outputId": "b82a2a5f-cf8c-4f99-951a-1fba9336a870"
   },
   "outputs": [
    {
     "name": "stdout",
     "output_type": "stream",
     "text": [
      "Success\n"
     ]
    }
   ],
   "source": [
    "#saving pytorch model\n",
    "\n",
    "torch.save(obj=model.state_dict(),f='model.pth')\n",
    "print(\"Success\")"
   ]
  },
  {
   "cell_type": "code",
   "execution_count": null,
   "metadata": {
    "id": "YIs2hfLk2NUf"
   },
   "outputs": [],
   "source": []
  }
 ],
 "metadata": {
  "accelerator": "GPU",
  "colab": {
   "gpuType": "T4",
   "provenance": []
  },
  "kernelspec": {
   "display_name": "Python 3 (ipykernel)",
   "language": "python",
   "name": "python3"
  },
  "language_info": {
   "codemirror_mode": {
    "name": "ipython",
    "version": 3
   },
   "file_extension": ".py",
   "mimetype": "text/x-python",
   "name": "python",
   "nbconvert_exporter": "python",
   "pygments_lexer": "ipython3",
   "version": "3.13.2"
  }
 },
 "nbformat": 4,
 "nbformat_minor": 4
}
